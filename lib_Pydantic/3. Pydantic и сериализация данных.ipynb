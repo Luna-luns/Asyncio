{
 "cells": [
  {
   "cell_type": "markdown",
   "id": "2671d8e7",
   "metadata": {
    "lines_to_next_cell": 0
   },
   "source": [
    "# Руководство по сериализации и валидации данных в FastAPI (Pydantic)\n",
    "\n",
    "Ниже представлена обновлённая версия материала, в которой оставлены только главы 1 и 6 из предыдущего руководства, а также добавлены подробные примеры кода, демонстрирующие механизмы сериализации и десериализации в Pydantic. Теперь каждый пример содержит более детальные комментарии.\n",
    "\n",
    "---\n",
    "\n",
    "## 1. Сериализация данных в FastAPI\n",
    "\n",
    "### 1.1. Что такое сериализация?\n",
    "\n",
    "**Сериализация** — это процесс превращения структур данных или объектов (например, объектов Python) в формат, который может передаваться по сети (чаще всего JSON) и обратно. Например, когда клиент отправляет JSON на сервер, сервер должен превратить этот JSON во внутреннюю модель Python, чтобы с ней работать. А при ответе — сервер сериализует модель обратно в JSON.\n",
    "\n",
    "**Зачем нужна сериализация?**\n",
    "\n",
    "1. **Удобный обмен данными** между разными сервисами или клиентами, написанными на разных языках.\n",
    "2. **Стандартизированный формат** (JSON) облегчает интеграцию.\n",
    "3. **Валидация и контроль**: перед сохранением в базу данных мы можем проверить корректность входных данных.\n",
    "\n",
    "### 1.2. Зачем нам Pydantic?\n",
    "\n",
    "В FastAPI за сериализацию и валидацию данных отвечает **Pydantic**. Он позволяет:\n",
    "\n",
    "- Описывать структуры данных с помощью классов, наследованных от `BaseModel`.\n",
    "- Автоматически валидировать входящие данные согласно типам (например, `str`, `int`, `EmailStr`, `conint` и т. д.).\n",
    "- Удобно работать с JSON: конвертировать модель в словарь, а потом в JSON, и обратно.\n",
    "- Перехватывать и обрабатывать ошибки (например, если поле `email` должно быть корректным адресом).\n",
    "\n",
    "### 1.3. Дополнительные возможности Pydantic\n",
    "\n",
    "Pydantic не ограничивается базовой проверкой типов. Есть и более продвинутые инструменты:\n",
    "\n",
    "1. **Валидация значений**. Например, поле может иметь ограничения:\n",
    "   ```python\n",
    "   from pydantic import BaseModel, conint\n",
    "\n",
    "   class Product(BaseModel):\n",
    "       name: str\n",
    "       price: conint(gt=0)  # цена должна быть > 0\n",
    "   ```\n",
    "   Если передать `price=0`, будет ошибка.\n",
    "\n",
    "2. **Значения по умолчанию**:\n",
    "   ```python\n",
    "   from typing import Optional\n",
    "\n",
    "   class Article(BaseModel):\n",
    "       title: str\n",
    "       content: str\n",
    "       published: bool = False  # если не указать, то будет False\n",
    "   ```\n",
    "\n",
    "3. **Опциональные поля**:\n",
    "   ```python\n",
    "   class Comment(BaseModel):\n",
    "       user_id: int\n",
    "       text: str\n",
    "       parent_comment_id: Optional[int] = None\n",
    "   ```\n",
    "   Здесь `parent_comment_id` может быть `None`, если это корневой комментарий.\n",
    "\n",
    "4. **Вложенные модели**:\n",
    "   ```python\n",
    "   from pydantic import BaseModel, EmailStr\n",
    "\n",
    "   class Author(BaseModel):\n",
    "       name: str\n",
    "       email: EmailStr\n",
    "\n",
    "   class Book(BaseModel):\n",
    "       title: str\n",
    "       author: Author\n",
    "   ```\n",
    "   Pydantic позволит создавать более сложные структуры, проверяя каждую вложенную модель.\n",
    "\n",
    "5. **Кастомные валидаторы**:\n",
    "   Вы можете определять методы (`@validator` или `@field_validator` в Pydantic v2) внутри класса для проверки полей. Например, проверить сложность пароля, валидность даты и т. д.\n",
    "\n",
    "---\n",
    "\n",
    "## 2. Примеры сериализации в Pydantic\n",
    "\n",
    "Ниже — несколько примеров кода, в которых демонстрируются различные приёмы и фишки работы с Pydantic при **сериализации** данных. Каждый пример можно скопировать в отдельный файл и запустить.\n",
    "\n",
    "### 01_dict_to_json.py"
   ]
  },
  {
   "cell_type": "code",
   "execution_count": 7,
   "id": "69f97312",
   "metadata": {},
   "outputs": [
    {
     "name": "stdout",
     "output_type": "stream",
     "text": [
      "{\n",
      "    \"id\": 123,\n",
      "    \"name\": \"Alice\",\n",
      "    \"email\": \"alice@example.com\"\n",
      "}\n"
     ]
    }
   ],
   "source": [
    "from pydantic import BaseModel\n",
    "\n",
    "\n",
    "class User(BaseModel):\n",
    "    id: int\n",
    "    name: str\n",
    "    email: str | None = None\n",
    "\n",
    "\n",
    "# TODO-1: поменяйте значение name:  \"Alice\" -> 100. Запустите код.\n",
    "# TODO-2: поменяйте значение id:  123 -> \"123\". Запустите код.\n",
    "user_data = {\"id\": 123, \"name\": \"Alice\", \"email\": \"alice@example.com\"}\n",
    "# Создаём модель, используя распаковку словаря (**user_data)\n",
    "user = User(**user_data)\n",
    "\n",
    "# Сериализуем модель в JSON-строку с отступами\n",
    "user_json = user.model_dump_json(indent=4)\n",
    "# Выводим результат на экран\n",
    "print(user_json)"
   ]
  },
  {
   "cell_type": "markdown",
   "id": "893e8fe2",
   "metadata": {
    "lines_to_next_cell": 0
   },
   "source": [
    "**Комментарии:**\n",
    "1. `class User(BaseModel): ...` — создаём класс-модель, описывающий поля.\n",
    "2. В `user_data` задаём поле `id`, поле `name`, а `email` необязательное.\n",
    "3. Если нарушить типизацию, например, передать `name=100`, Pydantic выбросит ошибку.\n",
    "4. `model_dump_json(indent=4)` делает красивый форматированный JSON.\n",
    "\n",
    "---\n",
    "\n",
    "### 02_object_to_json.py"
   ]
  },
  {
   "cell_type": "code",
   "execution_count": 47,
   "id": "a9571213",
   "metadata": {},
   "outputs": [
    {
     "name": "stdout",
     "output_type": "stream",
     "text": [
      "{'from_attributes': True, 'extra': 'allow'}\n",
      "schema = PointSchema(x=10, y=25)\n",
      "{\n",
      "    \"x\": 10,\n",
      "    \"y\": 25\n",
      "}\n",
      "Point3D:\n",
      " {\n",
      "    \"x\": 1,\n",
      "    \"y\": 2\n",
      "}\n"
     ]
    }
   ],
   "source": [
    "from pydantic import BaseModel, ConfigDict\n",
    "\n",
    "\n",
    "class Point:\n",
    "    def __init__(self, x, y):\n",
    "        self.x = x\n",
    "        self.y = y\n",
    "\n",
    "\n",
    "class Point3D:\n",
    "    def __init__(self, x, y, z):\n",
    "        self.x = x\n",
    "        self.y = y\n",
    "        self.z = z\n",
    "\n",
    "class Point1D:\n",
    "    def __init__(self, x):\n",
    "        self.x = x\n",
    "\n",
    "\n",
    "class PointSchema(BaseModel):\n",
    "    # ConfigDict(from_attributes=True) позволяет брать атрибуты из обычных Python-объектов\n",
    "    model_config = ConfigDict(from_attributes=True, extra='allow')\n",
    "    x: int\n",
    "    y: int\n",
    "\n",
    "\n",
    "\n",
    "# TODO-1: поменяйте значение координат: int -> float\n",
    "# TODO-2: поменяйте значение координат: int -> str\n",
    "print(PointSchema.model_config)\n",
    "point = Point(x=10, y=25)\n",
    "# Создаём из объекта point модель PointSchema\n",
    "schema = PointSchema.model_validate(point)\n",
    "print(f'{schema = }')\n",
    "# Сериализуем результат в JSON\n",
    "point_json = schema.model_dump_json(indent=4)\n",
    "\n",
    "print(point_json)\n",
    "\n",
    "\n",
    "# TODO-3: создаём экземпляр класса Point3D и сериализуем\n",
    "point3d = Point3D(x=1, y=2, z=3)\n",
    "try:\n",
    "    schema_3d = PointSchema.model_validate(point3d)\n",
    "    point3d_json = schema_3d.model_dump_json(indent=4)\n",
    "    print(\"Point3D:\\n\", point3d_json)\n",
    "except Exception as e:\n",
    "    print(\"Validation error for Point3D:\", e)\n",
    "\n",
    "\n",
    "# TODO-4: создаём экземпляр класса Point1D и сериализуем\n",
    "# point1d = Point1D(x=100)\n",
    "# try:\n",
    "#     schema_1d = PointSchema.model_validate(point1d)\n",
    "#     point1d_json = schema_1d.model_dump_json(indent=4)\n",
    "#     print(\"Point1D:\\n\", point1d_json)\n",
    "# except Exception as e:\n",
    "#     print(\"Validation error for Point1D:\", e)"
   ]
  },
  {
   "cell_type": "markdown",
   "id": "7ab0a339",
   "metadata": {
    "lines_to_next_cell": 0
   },
   "source": [
    "**Комментарии:**\n",
    "1. `PointSchema` ждёт поля `x` и `y`, оба типа `int`.\n",
    "2. Если вы передадите объект `Point3D`, в котором есть ещё и `z`, это вызовет ошибку, так как в модели нет такого поля.\n",
    "3. `model_config = ConfigDict(from_attributes=True)` даёт возможность передавать обычные объекты (`point`), а не словари.\n",
    "4. `model_validate(...)` (в Pydantic v2) строит модель на основе объекта.\n",
    "\n",
    "---\n",
    "\n",
    "### 03_object_to_json_optional.py"
   ]
  },
  {
   "cell_type": "code",
   "execution_count": 19,
   "id": "891c7026",
   "metadata": {},
   "outputs": [
    {
     "name": "stdout",
     "output_type": "stream",
     "text": [
      "{\n",
      "    \"x\": 10,\n",
      "    \"y\": null,\n",
      "    \"z\": null\n",
      "}\n",
      "{\n",
      "    \"x\": 10,\n",
      "    \"y\": 25,\n",
      "    \"z\": null\n",
      "}\n",
      "{\n",
      "    \"x\": 10,\n",
      "    \"y\": 25,\n",
      "    \"z\": 11\n",
      "}\n"
     ]
    }
   ],
   "source": [
    "from pydantic import BaseModel, ConfigDict\n",
    "\n",
    "\n",
    "class Point:\n",
    "    def __init__(self, x, y):\n",
    "        self.x = x\n",
    "        self.y = y\n",
    "\n",
    "\n",
    "class Point3D:\n",
    "    def __init__(self, x, y, z):\n",
    "        self.x = x\n",
    "        self.y = y\n",
    "        self.z = z\n",
    "\n",
    "class Point1D:\n",
    "    def __init__(self, x):\n",
    "        self.x = x\n",
    "\n",
    "\n",
    "class PointSchema(BaseModel):\n",
    "    model_config = ConfigDict(from_attributes=True)\n",
    "    x: int\n",
    "    y: int = None\n",
    "    z: int = None\n",
    "\n",
    "\n",
    "point1 = Point1D(x=10)\n",
    "point2 = Point(x=10, y=25)\n",
    "point3 = Point3D(x=10, y=25, z=11)\n",
    "\n",
    "\n",
    "# Сериализация со значением по умолчанию\n",
    "print(PointSchema.model_validate(point1).model_dump_json(indent=4))\n",
    "print(PointSchema.model_validate(point2).model_dump_json(indent=4))\n",
    "print(PointSchema.model_validate(point3).model_dump_json(indent=4))"
   ]
  },
  {
   "cell_type": "markdown",
   "id": "9885ec62",
   "metadata": {
    "lines_to_next_cell": 0
   },
   "source": [
    "**Комментарии:**\n",
    "1. Поле `y` имеет тип `int`, но по умолчанию `None`, а `z` — тоже `int` или `None`.\n",
    "2. `point1` имеет только `x`, но Pydantic не будет ругаться, потому что `y` и `z` необязательны.\n",
    "3. При сериализации (метод `model_dump_json`) те поля, что не заданы, будут отсутствовать или иметь `null` в JSON.\n",
    "\n",
    "---\n",
    "\n",
    "### 04_nested_object_to_json.py"
   ]
  },
  {
   "cell_type": "code",
   "execution_count": 21,
   "id": "59ed363f",
   "metadata": {},
   "outputs": [
    {
     "name": "stdout",
     "output_type": "stream",
     "text": [
      "<class 'str'>\n",
      "{\n",
      "    \"user_id\": 2,\n",
      "    \"username\": \"John\",\n",
      "    \"address\": {\n",
      "        \"street\": \"Main St\",\n",
      "        \"city\": \"Anytown\",\n",
      "        \"zip\": \"12345\"\n",
      "    },\n",
      "    \"orders\": [\n",
      "        {\n",
      "            \"order_id\": 1,\n",
      "            \"items\": [\n",
      "                \"item1\",\n",
      "                \"item2\"\n",
      "            ]\n",
      "        },\n",
      "        {\n",
      "            \"order_id\": 2,\n",
      "            \"items\": [\n",
      "                \"item3\"\n",
      "            ]\n",
      "        }\n",
      "    ]\n",
      "}\n"
     ]
    }
   ],
   "source": [
    "from pydantic import BaseModel\n",
    "\n",
    "\n",
    "class Address(BaseModel):\n",
    "    street: str\n",
    "    city: str\n",
    "    zip: str\n",
    "\n",
    "class Order(BaseModel):\n",
    "    order_id: int\n",
    "    items: list[str]\n",
    "\n",
    "class User(BaseModel):\n",
    "    user_id: int\n",
    "    username: str\n",
    "    address: Address\n",
    "    orders: list[Order]\n",
    "\n",
    "\n",
    "user_data = {\n",
    "    \"user_id\": 2,\n",
    "    \"username\": \"John\",\n",
    "    \"address\": {\n",
    "        \"street\": \"Main St\",\n",
    "        \"city\": \"Anytown\",\n",
    "        \"zip\": \"12345\"\n",
    "    },\n",
    "    \"orders\": [\n",
    "        {\"order_id\": 1, \"items\": [\"item1\", \"item2\"]},\n",
    "        {\"order_id\": 2, \"items\": [\"item3\"]}\n",
    "    ]\n",
    "}\n",
    "\n",
    "user = User(**user_data)\n",
    "user_json = user.model_dump_json(indent=4)\n",
    "print(type(user_json))\n",
    "print(user_json)"
   ]
  },
  {
   "cell_type": "markdown",
   "id": "fe9de99a",
   "metadata": {
    "lines_to_next_cell": 0
   },
   "source": [
    "**Комментарии:**\n",
    "1. `User` содержит поле `address` (типа `Address`) и `orders` (список `Order`).\n",
    "2. `user_data` имеет вложенную структуру: объект `address` и массив `orders`.\n",
    "3. Pydantic автоматически сериализует всё дерево моделей в JSON.\n",
    "\n",
    "---\n",
    "\n",
    "### 05_custom_validator.py"
   ]
  },
  {
   "cell_type": "code",
   "execution_count": 22,
   "id": "8e80c290",
   "metadata": {},
   "outputs": [
    {
     "name": "stdout",
     "output_type": "stream",
     "text": [
      "{\"id\":1,\"name\":\"Иван\",\"email\":\"ivan@example.com\"}\n",
      "1 validation error for User\n",
      "email\n",
      "  Value error, Email должен содержать символ '@' [type=value_error, input_value='petrexample.com', input_type=str]\n",
      "    For further information visit https://errors.pydantic.dev/2.11/v/value_error\n"
     ]
    }
   ],
   "source": [
    "from pydantic import BaseModel, field_validator\n",
    "\n",
    "\n",
    "class User(BaseModel):\n",
    "    id: int\n",
    "    name: str\n",
    "    email: str\n",
    "\n",
    "    @field_validator(\"email\")\n",
    "    def validate_email(cls, value):\n",
    "        if \"@\" not in value:\n",
    "            raise ValueError(\"Email должен содержать символ '@'\")\n",
    "        return value\n",
    "\n",
    "\n",
    "user = User(id=1, name=\"Иван\", email=\"ivan@example.com\")\n",
    "print(user.model_dump_json())\n",
    "\n",
    "try:\n",
    "    User(id=2, name=\"Петр\", email=\"petrexample.com\")\n",
    "except ValueError as e:\n",
    "    print(e)"
   ]
  },
  {
   "cell_type": "markdown",
   "id": "a511e41c",
   "metadata": {
    "lines_to_next_cell": 0
   },
   "source": [
    "**Комментарии:**\n",
    "1. `@field_validator(\"email\")` — специальный декоратор, который вызывается при валидации поля `email`.\n",
    "2. Если значение не содержит `@`, выбрасывается ошибка `ValueError`.\n",
    "3. При корректном вводе модель успешно создаётся, и мы можем вызвать `model_dump_json()`.\n",
    "\n",
    "---\n",
    "\n",
    "### 06_aliases.py"
   ]
  },
  {
   "cell_type": "code",
   "execution_count": 24,
   "id": "7fa823bf",
   "metadata": {},
   "outputs": [
    {
     "name": "stdout",
     "output_type": "stream",
     "text": [
      "user = User(user_id=1, name='Иван', email='ivan@example.com')\n",
      "{\"id\":1,\"user_name\":\"Иван\",\"email\":\"ivan@example.com\"}\n",
      "user_id=2 name='Петр' email='petr@example.com'\n"
     ]
    }
   ],
   "source": [
    "from pydantic import BaseModel, Field\n",
    "\n",
    "\n",
    "class User(BaseModel):\n",
    "    user_id: int = Field(alias=\"id\")\n",
    "    name: str = Field(alias=\"user_name\")\n",
    "    email: str = None\n",
    "\n",
    "user_data = {\"id\": 1, \"user_name\": \"Иван\", \"email\": \"ivan@example.com\"}\n",
    "user_data2 = {\"id\": 2, \"user_name\": \"Петр\", \"email\": \"petr@example.com\"}\n",
    "\n",
    "user = User(**user_data)\n",
    "print(f'{user = }')\n",
    "print(user.model_dump_json(by_alias=True))\n",
    "\n",
    "user_deserialized = User(**user_data2)\n",
    "print(user_deserialized)"
   ]
  },
  {
   "cell_type": "markdown",
   "id": "cef67c11",
   "metadata": {
    "lines_to_next_cell": 0
   },
   "source": [
    "**Комментарии:**\n",
    "1. `Field(alias=\"id\")` означает, что Pydantic при деструктуризации словаря будет искать ключ `\"id\"`, а сохранять его в поле `user_id`.\n",
    "2. `model_dump_json(by_alias=True)` вернёт JSON, где поле `user_id` будет записано как `\"id\"`.\n",
    "\n",
    "---\n",
    "\n",
    "## 3. Примеры десериализации\n",
    "\n",
    "Теперь рассмотрим примеры, показывающие десериализацию (превращение JSON или словарей в Python-объекты).\n",
    "\n",
    "### 01_dict_to_object.py"
   ]
  },
  {
   "cell_type": "code",
   "execution_count": 27,
   "id": "ec46382b",
   "metadata": {},
   "outputs": [
    {
     "name": "stdout",
     "output_type": "stream",
     "text": [
      "id=1 name='Иван' age=30\n",
      "Иван\n"
     ]
    }
   ],
   "source": [
    "from pydantic import BaseModel\n",
    "\n",
    "\n",
    "class User(BaseModel):\n",
    "    id: int\n",
    "    name: str\n",
    "    age: int\n",
    "\n",
    "\n",
    "user_data = {\n",
    "    \"id\": 1,\n",
    "    \"name\": \"Иван\",\n",
    "    \"age\": 30\n",
    "}\n",
    "\n",
    "# Десериализация из словаря\n",
    "user = User(**user_data)\n",
    "\n",
    "print(user)\n",
    "print(user.name)"
   ]
  },
  {
   "cell_type": "markdown",
   "id": "42d5b10f",
   "metadata": {
    "lines_to_next_cell": 0
   },
   "source": [
    "**Комментарии:**\n",
    "1. Мы передаём словарь `user_data` распаковкой `**user_data`.\n",
    "2. Pydantic проверяет соответствие типов и создаёт объект `User`.\n",
    "3. Если бы не было поля `age` или был бы неверный тип, возникла бы ошибка валидации.\n",
    "\n",
    "---\n",
    "\n",
    "### 02_json_to_object.py"
   ]
  },
  {
   "cell_type": "code",
   "execution_count": 30,
   "id": "0801dbbb",
   "metadata": {},
   "outputs": [
    {
     "name": "stdout",
     "output_type": "stream",
     "text": [
      "id=1 name='Иван' age=30\n",
      "Иван\n"
     ]
    }
   ],
   "source": [
    "from pydantic import BaseModel\n",
    "\n",
    "class User(BaseModel):\n",
    "    id: int\n",
    "    name: str\n",
    "    age: int\n",
    "\n",
    "user_json = '{\"id\": 1, \"name\": \"Иван\", \"age\": 30}'\n",
    "user_json_bad = '{\"id\": 1, \"name\": \"Иван\"}'\n",
    "\n",
    "# Десериализация из JSON-строки\n",
    "# TODO-1: попробуйте десериализовать user_json_bad\n",
    "user = User.model_validate_json(user_json)\n",
    "\n",
    "print(user)\n",
    "print(user.name)"
   ]
  },
  {
   "cell_type": "markdown",
   "id": "89a126e4",
   "metadata": {
    "lines_to_next_cell": 0
   },
   "source": [
    "**Комментарии:**\n",
    "1. `user_json` — валидная JSON-строка со всеми тремя полями.\n",
    "2. `user_json_bad` — там нет поля `age`. Попробуйте десериализовать и увидеть ошибку.\n",
    "3. `User.model_validate_json(...)` (Pydantic v2) берёт JSON-строку, парсит её и проверяет структуру.\n",
    "\n",
    "---\n",
    "\n",
    "### 03_nested_objects.py"
   ]
  },
  {
   "cell_type": "code",
   "execution_count": 35,
   "id": "23065032",
   "metadata": {},
   "outputs": [
    {
     "name": "stdout",
     "output_type": "stream",
     "text": [
      "id=1 name='Алексей' company=Company(name='ООО Рога и Копыта', address=Address(street='Тверская', city='Москва', zip_code='123456'), employees=['Иван', 'Петр'])\n",
      "Москва\n"
     ]
    }
   ],
   "source": [
    "from pydantic import BaseModel\n",
    "from typing import List, Optional\n",
    "\n",
    "class Address(BaseModel):\n",
    "    street: str\n",
    "    city: str\n",
    "    zip_code: str\n",
    "\n",
    "class Company(BaseModel):\n",
    "    name: str\n",
    "    address: Address\n",
    "    employees: Optional[List[str]] = None\n",
    "\n",
    "class Employee(BaseModel):\n",
    "    id: int\n",
    "    name: str\n",
    "    company: Company\n",
    "\n",
    "employee_data = {\n",
    "    \"id\": 1,\n",
    "    \"name\": \"Алексей\",\n",
    "    \"company\": {\n",
    "        \"name\": \"ООО Рога и Копыта\",\n",
    "        \"address\": {\n",
    "            \"street\": \"Тверская\",\n",
    "            \"city\": \"Москва\",\n",
    "            \"zip_code\": \"123456\"\n",
    "        },\n",
    "       \"employees\": [\"Иван\", \"Петр\"]\n",
    "    }\n",
    "}\n",
    "\n",
    "# Десериализация из словаря с вложенными объектами\n",
    "employee = Employee(**employee_data)\n",
    "\n",
    "print(employee)\n",
    "print(employee.company.address.city)"
   ]
  },
  {
   "cell_type": "markdown",
   "id": "0c3b9daa",
   "metadata": {
    "lines_to_next_cell": 0
   },
   "source": [
    "**Комментарии:**\n",
    "1. Модель `Employee` содержит вложенную модель `Company`, а `Company` — вложенную модель `Address`.\n",
    "2. При создании `Employee` мы передаём вложенный словарь, и Pydantic рекурсивно проверяет/создаёт все вложенные объекты.\n",
    "3. `print(employee.company.address.city)` даёт доступ к полям самой глубины.\n",
    "\n",
    "---\n",
    "\n",
    "### 04_list_objects.py"
   ]
  },
  {
   "cell_type": "code",
   "execution_count": 38,
   "id": "bdf80e8f",
   "metadata": {},
   "outputs": [
    {
     "name": "stdout",
     "output_type": "stream",
     "text": [
      "id=1 name='Иван' age=30\n",
      "id=2 name='Петр' age=25\n"
     ]
    }
   ],
   "source": [
    "from pydantic import BaseModel\n",
    "from typing import List\n",
    "\n",
    "\n",
    "class User(BaseModel):\n",
    "    id: int\n",
    "    name: str\n",
    "    age: int\n",
    "\n",
    "\n",
    "users_data: list = [\n",
    "    {\"id\": 1, \"name\": \"Иван\", \"age\": 30},\n",
    "    {\"id\": 2, \"name\": \"Петр\", \"age\": 25}\n",
    "]\n",
    "\n",
    "# Десериализация списка словарей\n",
    "users = [User(**user_data) for user_data in users_data]\n",
    "\n",
    "for user in users:\n",
    "    print(user)"
   ]
  },
  {
   "cell_type": "markdown",
   "id": "5a89b4ba",
   "metadata": {},
   "source": [
    "**Комментарии:**\n",
    "1. `users_data` — это список словарей.\n",
    "2. Мы итерируемся по списку, создавая модель `User` для каждого словаря.\n",
    "3. Если один из элементов будет с неправильной структурой, выбросится ошибка.\n",
    "\n",
    "---\n",
    "\n",
    "## 4. Заключение\n",
    "\n",
    "Теперь вы знаете:\n",
    "\n",
    "1. **Что такое сериализация** и почему JSON.\n",
    "2. **Как Pydantic упрощает работу** с данными (включая сложные структуры, валидацию значений, вложенные модели и т.д.).\n",
    "\n",
    "В итоге, применяя эти примеры в реальных проектах, вы сможете надёжно проверять входящие данные, управлять структурой JSON и облегчать обмен данными между сервисами.\n",
    "\n",
    "🚀 Удачи в освоении FastAPI и Pydantic!\n"
   ]
  }
 ],
 "metadata": {
  "jupytext": {
   "cell_metadata_filter": "-all",
   "main_language": "python",
   "notebook_metadata_filter": "-all"
  },
  "kernelspec": {
   "display_name": "Python 3 (ipykernel)",
   "language": "python",
   "name": "python3"
  },
  "language_info": {
   "codemirror_mode": {
    "name": "ipython",
    "version": 3
   },
   "file_extension": ".py",
   "mimetype": "text/x-python",
   "name": "python",
   "nbconvert_exporter": "python",
   "pygments_lexer": "ipython3",
   "version": "3.12.3"
  }
 },
 "nbformat": 4,
 "nbformat_minor": 5
}
